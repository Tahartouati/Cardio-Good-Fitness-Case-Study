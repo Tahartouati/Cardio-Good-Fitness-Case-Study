{
 "cells": [
  {
   "cell_type": "code",
   "execution_count": 60,
   "metadata": {},
   "outputs": [],
   "source": [
    "import pandas as pd\n",
    "import numpy as np\n",
    "import matplotlib.pyplot as plt\n",
    "%matplotlib inline"
   ]
  },
  {
   "cell_type": "markdown",
   "metadata": {},
   "source": [
    "# Project explanation:\n",
    "The market research team at AdRight is assigned the task to identify the profile of the typical customer for each treadmill product offered by CardioGood Fitness. The market research team decides to investigate whether there are differences across the product lines with respect to customer characteristics. The team decides to collect data on individuals who purchased a treadmill at a CardioGoodFitness retail store during the prior three months. The data are stored in the CardioGoodFitness.csv file. The team identifies the following customer variables to study: product purchased, TM195, TM498, or TM798; gender; age, in years;education, in years; relationship status, single or partnered; annual household income ($); average number of times the customer plans to use the treadmill each week; average number of miles the customer expects to walk/run each week; and self-rated fitness on an 1-to-5 scale, where 1 is poor shape and 5 is excellent shape. Perform descriptive analytics to create a customer profile for each CardioGood Fitness treadmill product line."
   ]
  },
  {
   "cell_type": "markdown",
   "metadata": {},
   "source": [
    "## Table of content:\n",
    "- ### I)Data Preprocessing:\n",
    "    - #### 1) Hot encode the variable Product to separate the original dataset into different dataset for each product.\n",
    "    - #### 2) Modify the gender variable to 1 for Male and 0 for Female.\n",
    "    - #### 3) Separate the original dataset into 3 dataset, each dataset contains informations about one of the products.\n",
    "- ### II) Data Analysis:\n",
    "    - #### 1) Observing the correlation of each value with our 3 products.\n",
    "    - #### 2) Analyse each feature and describ what are the values that represent the \"best clients\" for each product\n",
    "    - #### 3) Compute mode value for the categorical features."
   ]
  },
  {
   "cell_type": "code",
   "execution_count": 2,
   "metadata": {},
   "outputs": [],
   "source": [
    "df = pd.read_csv('CardioGoodFitness.csv')"
   ]
  },
  {
   "cell_type": "code",
   "execution_count": 3,
   "metadata": {},
   "outputs": [
    {
     "data": {
      "text/html": [
       "<div>\n",
       "<style scoped>\n",
       "    .dataframe tbody tr th:only-of-type {\n",
       "        vertical-align: middle;\n",
       "    }\n",
       "\n",
       "    .dataframe tbody tr th {\n",
       "        vertical-align: top;\n",
       "    }\n",
       "\n",
       "    .dataframe thead th {\n",
       "        text-align: right;\n",
       "    }\n",
       "</style>\n",
       "<table border=\"1\" class=\"dataframe\">\n",
       "  <thead>\n",
       "    <tr style=\"text-align: right;\">\n",
       "      <th></th>\n",
       "      <th>Product</th>\n",
       "      <th>Age</th>\n",
       "      <th>Gender</th>\n",
       "      <th>Education</th>\n",
       "      <th>MaritalStatus</th>\n",
       "      <th>Usage</th>\n",
       "      <th>Fitness</th>\n",
       "      <th>Income</th>\n",
       "      <th>Miles</th>\n",
       "    </tr>\n",
       "  </thead>\n",
       "  <tbody>\n",
       "    <tr>\n",
       "      <th>0</th>\n",
       "      <td>TM195</td>\n",
       "      <td>18</td>\n",
       "      <td>Male</td>\n",
       "      <td>14</td>\n",
       "      <td>Single</td>\n",
       "      <td>3</td>\n",
       "      <td>4</td>\n",
       "      <td>29562</td>\n",
       "      <td>112</td>\n",
       "    </tr>\n",
       "    <tr>\n",
       "      <th>1</th>\n",
       "      <td>TM195</td>\n",
       "      <td>19</td>\n",
       "      <td>Male</td>\n",
       "      <td>15</td>\n",
       "      <td>Single</td>\n",
       "      <td>2</td>\n",
       "      <td>3</td>\n",
       "      <td>31836</td>\n",
       "      <td>75</td>\n",
       "    </tr>\n",
       "    <tr>\n",
       "      <th>2</th>\n",
       "      <td>TM195</td>\n",
       "      <td>19</td>\n",
       "      <td>Female</td>\n",
       "      <td>14</td>\n",
       "      <td>Partnered</td>\n",
       "      <td>4</td>\n",
       "      <td>3</td>\n",
       "      <td>30699</td>\n",
       "      <td>66</td>\n",
       "    </tr>\n",
       "    <tr>\n",
       "      <th>3</th>\n",
       "      <td>TM195</td>\n",
       "      <td>19</td>\n",
       "      <td>Male</td>\n",
       "      <td>12</td>\n",
       "      <td>Single</td>\n",
       "      <td>3</td>\n",
       "      <td>3</td>\n",
       "      <td>32973</td>\n",
       "      <td>85</td>\n",
       "    </tr>\n",
       "    <tr>\n",
       "      <th>4</th>\n",
       "      <td>TM195</td>\n",
       "      <td>20</td>\n",
       "      <td>Male</td>\n",
       "      <td>13</td>\n",
       "      <td>Partnered</td>\n",
       "      <td>4</td>\n",
       "      <td>2</td>\n",
       "      <td>35247</td>\n",
       "      <td>47</td>\n",
       "    </tr>\n",
       "  </tbody>\n",
       "</table>\n",
       "</div>"
      ],
      "text/plain": [
       "  Product  Age  Gender  Education MaritalStatus  Usage  Fitness  Income  Miles\n",
       "0   TM195   18    Male         14        Single      3        4   29562    112\n",
       "1   TM195   19    Male         15        Single      2        3   31836     75\n",
       "2   TM195   19  Female         14     Partnered      4        3   30699     66\n",
       "3   TM195   19    Male         12        Single      3        3   32973     85\n",
       "4   TM195   20    Male         13     Partnered      4        2   35247     47"
      ]
     },
     "execution_count": 3,
     "metadata": {},
     "output_type": "execute_result"
    }
   ],
   "source": [
    "df.head()"
   ]
  },
  {
   "cell_type": "code",
   "execution_count": 8,
   "metadata": {},
   "outputs": [
    {
     "name": "stdout",
     "output_type": "stream",
     "text": [
      "<class 'pandas.core.frame.DataFrame'>\n",
      "RangeIndex: 180 entries, 0 to 179\n",
      "Data columns (total 9 columns):\n",
      "Product          180 non-null object\n",
      "Age              180 non-null int64\n",
      "Gender           180 non-null object\n",
      "Education        180 non-null int64\n",
      "MaritalStatus    180 non-null object\n",
      "Usage            180 non-null int64\n",
      "Fitness          180 non-null int64\n",
      "Income           180 non-null int64\n",
      "Miles            180 non-null int64\n",
      "dtypes: int64(6), object(3)\n",
      "memory usage: 12.7+ KB\n"
     ]
    }
   ],
   "source": [
    "df.info()"
   ]
  },
  {
   "cell_type": "markdown",
   "metadata": {},
   "source": [
    "## I) Data preprocessing:"
   ]
  },
  {
   "cell_type": "markdown",
   "metadata": {},
   "source": [
    "### 1) Hot encode the variable Product to separate the original dataset into different dataset for each product:"
   ]
  },
  {
   "cell_type": "code",
   "execution_count": 9,
   "metadata": {},
   "outputs": [
    {
     "name": "stdout",
     "output_type": "stream",
     "text": [
      "   Product_TM195  Product_TM498  Product_TM798\n",
      "0              1              0              0\n",
      "1              1              0              0\n",
      "2              1              0              0\n",
      "3              1              0              0\n",
      "4              1              0              0\n"
     ]
    }
   ],
   "source": [
    "y = pd.get_dummies(df.Product, prefix='Product')\n",
    "print(y.head())"
   ]
  },
  {
   "cell_type": "code",
   "execution_count": 12,
   "metadata": {},
   "outputs": [],
   "source": [
    "df['TM195'] = y['Product_TM195']\n",
    "df['TM498'] = y['Product_TM498']\n",
    "df['TM798'] = y['Product_TM798']"
   ]
  },
  {
   "cell_type": "code",
   "execution_count": 13,
   "metadata": {},
   "outputs": [
    {
     "data": {
      "text/html": [
       "<div>\n",
       "<style scoped>\n",
       "    .dataframe tbody tr th:only-of-type {\n",
       "        vertical-align: middle;\n",
       "    }\n",
       "\n",
       "    .dataframe tbody tr th {\n",
       "        vertical-align: top;\n",
       "    }\n",
       "\n",
       "    .dataframe thead th {\n",
       "        text-align: right;\n",
       "    }\n",
       "</style>\n",
       "<table border=\"1\" class=\"dataframe\">\n",
       "  <thead>\n",
       "    <tr style=\"text-align: right;\">\n",
       "      <th></th>\n",
       "      <th>Product</th>\n",
       "      <th>Age</th>\n",
       "      <th>Gender</th>\n",
       "      <th>Education</th>\n",
       "      <th>MaritalStatus</th>\n",
       "      <th>Usage</th>\n",
       "      <th>Fitness</th>\n",
       "      <th>Income</th>\n",
       "      <th>Miles</th>\n",
       "      <th>TM195</th>\n",
       "      <th>TM498</th>\n",
       "      <th>TM798</th>\n",
       "    </tr>\n",
       "  </thead>\n",
       "  <tbody>\n",
       "    <tr>\n",
       "      <th>0</th>\n",
       "      <td>TM195</td>\n",
       "      <td>18</td>\n",
       "      <td>Male</td>\n",
       "      <td>14</td>\n",
       "      <td>Single</td>\n",
       "      <td>3</td>\n",
       "      <td>4</td>\n",
       "      <td>29562</td>\n",
       "      <td>112</td>\n",
       "      <td>1</td>\n",
       "      <td>0</td>\n",
       "      <td>0</td>\n",
       "    </tr>\n",
       "    <tr>\n",
       "      <th>1</th>\n",
       "      <td>TM195</td>\n",
       "      <td>19</td>\n",
       "      <td>Male</td>\n",
       "      <td>15</td>\n",
       "      <td>Single</td>\n",
       "      <td>2</td>\n",
       "      <td>3</td>\n",
       "      <td>31836</td>\n",
       "      <td>75</td>\n",
       "      <td>1</td>\n",
       "      <td>0</td>\n",
       "      <td>0</td>\n",
       "    </tr>\n",
       "    <tr>\n",
       "      <th>2</th>\n",
       "      <td>TM195</td>\n",
       "      <td>19</td>\n",
       "      <td>Female</td>\n",
       "      <td>14</td>\n",
       "      <td>Partnered</td>\n",
       "      <td>4</td>\n",
       "      <td>3</td>\n",
       "      <td>30699</td>\n",
       "      <td>66</td>\n",
       "      <td>1</td>\n",
       "      <td>0</td>\n",
       "      <td>0</td>\n",
       "    </tr>\n",
       "    <tr>\n",
       "      <th>3</th>\n",
       "      <td>TM195</td>\n",
       "      <td>19</td>\n",
       "      <td>Male</td>\n",
       "      <td>12</td>\n",
       "      <td>Single</td>\n",
       "      <td>3</td>\n",
       "      <td>3</td>\n",
       "      <td>32973</td>\n",
       "      <td>85</td>\n",
       "      <td>1</td>\n",
       "      <td>0</td>\n",
       "      <td>0</td>\n",
       "    </tr>\n",
       "    <tr>\n",
       "      <th>4</th>\n",
       "      <td>TM195</td>\n",
       "      <td>20</td>\n",
       "      <td>Male</td>\n",
       "      <td>13</td>\n",
       "      <td>Partnered</td>\n",
       "      <td>4</td>\n",
       "      <td>2</td>\n",
       "      <td>35247</td>\n",
       "      <td>47</td>\n",
       "      <td>1</td>\n",
       "      <td>0</td>\n",
       "      <td>0</td>\n",
       "    </tr>\n",
       "  </tbody>\n",
       "</table>\n",
       "</div>"
      ],
      "text/plain": [
       "  Product  Age  Gender  Education MaritalStatus  Usage  Fitness  Income  \\\n",
       "0   TM195   18    Male         14        Single      3        4   29562   \n",
       "1   TM195   19    Male         15        Single      2        3   31836   \n",
       "2   TM195   19  Female         14     Partnered      4        3   30699   \n",
       "3   TM195   19    Male         12        Single      3        3   32973   \n",
       "4   TM195   20    Male         13     Partnered      4        2   35247   \n",
       "\n",
       "   Miles  TM195  TM498  TM798  \n",
       "0    112      1      0      0  \n",
       "1     75      1      0      0  \n",
       "2     66      1      0      0  \n",
       "3     85      1      0      0  \n",
       "4     47      1      0      0  "
      ]
     },
     "execution_count": 13,
     "metadata": {},
     "output_type": "execute_result"
    }
   ],
   "source": [
    "df.head()"
   ]
  },
  {
   "cell_type": "markdown",
   "metadata": {},
   "source": [
    "### 2) Modify the gender variable to 1 for Male and 0 for Female:"
   ]
  },
  {
   "cell_type": "code",
   "execution_count": 101,
   "metadata": {},
   "outputs": [],
   "source": [
    "df['Gender'].replace('Male',1,inplace=True)\n",
    "df['Gender'].replace('Female',0,inplace=True)"
   ]
  },
  {
   "cell_type": "code",
   "execution_count": 102,
   "metadata": {},
   "outputs": [
    {
     "data": {
      "text/html": [
       "<div>\n",
       "<style scoped>\n",
       "    .dataframe tbody tr th:only-of-type {\n",
       "        vertical-align: middle;\n",
       "    }\n",
       "\n",
       "    .dataframe tbody tr th {\n",
       "        vertical-align: top;\n",
       "    }\n",
       "\n",
       "    .dataframe thead th {\n",
       "        text-align: right;\n",
       "    }\n",
       "</style>\n",
       "<table border=\"1\" class=\"dataframe\">\n",
       "  <thead>\n",
       "    <tr style=\"text-align: right;\">\n",
       "      <th></th>\n",
       "      <th>Product</th>\n",
       "      <th>Age</th>\n",
       "      <th>Gender</th>\n",
       "      <th>Education</th>\n",
       "      <th>MaritalStatus</th>\n",
       "      <th>Usage</th>\n",
       "      <th>Fitness</th>\n",
       "      <th>Income</th>\n",
       "      <th>Miles</th>\n",
       "      <th>TM195</th>\n",
       "      <th>TM498</th>\n",
       "      <th>TM798</th>\n",
       "    </tr>\n",
       "  </thead>\n",
       "  <tbody>\n",
       "    <tr>\n",
       "      <th>0</th>\n",
       "      <td>TM195</td>\n",
       "      <td>18</td>\n",
       "      <td>1</td>\n",
       "      <td>14</td>\n",
       "      <td>Single</td>\n",
       "      <td>3</td>\n",
       "      <td>4</td>\n",
       "      <td>29562</td>\n",
       "      <td>112</td>\n",
       "      <td>1</td>\n",
       "      <td>0</td>\n",
       "      <td>0</td>\n",
       "    </tr>\n",
       "    <tr>\n",
       "      <th>1</th>\n",
       "      <td>TM195</td>\n",
       "      <td>19</td>\n",
       "      <td>1</td>\n",
       "      <td>15</td>\n",
       "      <td>Single</td>\n",
       "      <td>2</td>\n",
       "      <td>3</td>\n",
       "      <td>31836</td>\n",
       "      <td>75</td>\n",
       "      <td>1</td>\n",
       "      <td>0</td>\n",
       "      <td>0</td>\n",
       "    </tr>\n",
       "    <tr>\n",
       "      <th>2</th>\n",
       "      <td>TM195</td>\n",
       "      <td>19</td>\n",
       "      <td>0</td>\n",
       "      <td>14</td>\n",
       "      <td>Partnered</td>\n",
       "      <td>4</td>\n",
       "      <td>3</td>\n",
       "      <td>30699</td>\n",
       "      <td>66</td>\n",
       "      <td>1</td>\n",
       "      <td>0</td>\n",
       "      <td>0</td>\n",
       "    </tr>\n",
       "    <tr>\n",
       "      <th>3</th>\n",
       "      <td>TM195</td>\n",
       "      <td>19</td>\n",
       "      <td>1</td>\n",
       "      <td>12</td>\n",
       "      <td>Single</td>\n",
       "      <td>3</td>\n",
       "      <td>3</td>\n",
       "      <td>32973</td>\n",
       "      <td>85</td>\n",
       "      <td>1</td>\n",
       "      <td>0</td>\n",
       "      <td>0</td>\n",
       "    </tr>\n",
       "    <tr>\n",
       "      <th>4</th>\n",
       "      <td>TM195</td>\n",
       "      <td>20</td>\n",
       "      <td>1</td>\n",
       "      <td>13</td>\n",
       "      <td>Partnered</td>\n",
       "      <td>4</td>\n",
       "      <td>2</td>\n",
       "      <td>35247</td>\n",
       "      <td>47</td>\n",
       "      <td>1</td>\n",
       "      <td>0</td>\n",
       "      <td>0</td>\n",
       "    </tr>\n",
       "  </tbody>\n",
       "</table>\n",
       "</div>"
      ],
      "text/plain": [
       "  Product  Age  Gender  Education MaritalStatus  Usage  Fitness  Income  \\\n",
       "0   TM195   18       1         14        Single      3        4   29562   \n",
       "1   TM195   19       1         15        Single      2        3   31836   \n",
       "2   TM195   19       0         14     Partnered      4        3   30699   \n",
       "3   TM195   19       1         12        Single      3        3   32973   \n",
       "4   TM195   20       1         13     Partnered      4        2   35247   \n",
       "\n",
       "   Miles  TM195  TM498  TM798  \n",
       "0    112      1      0      0  \n",
       "1     75      1      0      0  \n",
       "2     66      1      0      0  \n",
       "3     85      1      0      0  \n",
       "4     47      1      0      0  "
      ]
     },
     "execution_count": 102,
     "metadata": {},
     "output_type": "execute_result"
    }
   ],
   "source": [
    "df.head()"
   ]
  },
  {
   "cell_type": "code",
   "execution_count": null,
   "metadata": {},
   "outputs": [],
   "source": []
  },
  {
   "cell_type": "code",
   "execution_count": null,
   "metadata": {},
   "outputs": [],
   "source": []
  },
  {
   "cell_type": "markdown",
   "metadata": {},
   "source": [
    "### 3) Separate the original dataset into 3 dataset, each dataset contains informations about one of the products:"
   ]
  },
  {
   "cell_type": "code",
   "execution_count": 103,
   "metadata": {},
   "outputs": [],
   "source": [
    "TM195 = df[df['TM195'] == 1]\n",
    "TM498 = df[df['TM498'] == 1]\n",
    "TM798 = df[df['TM798'] == 1]"
   ]
  },
  {
   "cell_type": "code",
   "execution_count": 104,
   "metadata": {},
   "outputs": [
    {
     "data": {
      "text/plain": [
       "(80, 60, 40)"
      ]
     },
     "execution_count": 104,
     "metadata": {},
     "output_type": "execute_result"
    }
   ],
   "source": [
    "TM195.shape[0],TM498.shape[0],TM798.shape[0]"
   ]
  },
  {
   "cell_type": "code",
   "execution_count": 105,
   "metadata": {},
   "outputs": [
    {
     "name": "stderr",
     "output_type": "stream",
     "text": [
      "//anaconda3/lib/python3.7/site-packages/pandas/core/frame.py:3940: SettingWithCopyWarning: \n",
      "A value is trying to be set on a copy of a slice from a DataFrame\n",
      "\n",
      "See the caveats in the documentation: http://pandas.pydata.org/pandas-docs/stable/indexing.html#indexing-view-versus-copy\n",
      "  errors=errors)\n"
     ]
    }
   ],
   "source": [
    "# Dropping redundant variables:\n",
    "TM195.drop(['TM498','TM798','TM195'],axis=1,inplace = True)\n",
    "TM498.drop(['TM195','TM798','TM498'],axis=1,inplace = True)\n",
    "TM798.drop(['TM195','TM498','TM798'],axis=1,inplace = True)"
   ]
  },
  {
   "cell_type": "markdown",
   "metadata": {},
   "source": [
    "## II) Data Analysis:"
   ]
  },
  {
   "cell_type": "markdown",
   "metadata": {},
   "source": [
    "### 1) Let's start by observing the correlation of each value with our 3 products:"
   ]
  },
  {
   "cell_type": "code",
   "execution_count": 106,
   "metadata": {},
   "outputs": [
    {
     "data": {
      "text/html": [
       "<div>\n",
       "<style scoped>\n",
       "    .dataframe tbody tr th:only-of-type {\n",
       "        vertical-align: middle;\n",
       "    }\n",
       "\n",
       "    .dataframe tbody tr th {\n",
       "        vertical-align: top;\n",
       "    }\n",
       "\n",
       "    .dataframe thead th {\n",
       "        text-align: right;\n",
       "    }\n",
       "</style>\n",
       "<table border=\"1\" class=\"dataframe\">\n",
       "  <thead>\n",
       "    <tr style=\"text-align: right;\">\n",
       "      <th></th>\n",
       "      <th>Age</th>\n",
       "      <th>Gender</th>\n",
       "      <th>Education</th>\n",
       "      <th>Usage</th>\n",
       "      <th>Fitness</th>\n",
       "      <th>Income</th>\n",
       "      <th>Miles</th>\n",
       "    </tr>\n",
       "  </thead>\n",
       "  <tbody>\n",
       "    <tr>\n",
       "      <th>TM195</th>\n",
       "      <td>-0.030858</td>\n",
       "      <td>-0.140848</td>\n",
       "      <td>-0.296591</td>\n",
       "      <td>-0.304312</td>\n",
       "      <td>-0.326090</td>\n",
       "      <td>-0.396744</td>\n",
       "      <td>-0.352915</td>\n",
       "    </tr>\n",
       "    <tr>\n",
       "      <th>TM498</th>\n",
       "      <td>0.011347</td>\n",
       "      <td>-0.087489</td>\n",
       "      <td>-0.199761</td>\n",
       "      <td>-0.254198</td>\n",
       "      <td>-0.304015</td>\n",
       "      <td>-0.203871</td>\n",
       "      <td>-0.208650</td>\n",
       "    </tr>\n",
       "    <tr>\n",
       "      <th>TM798</th>\n",
       "      <td>0.024017</td>\n",
       "      <td>0.267549</td>\n",
       "      <td>0.581002</td>\n",
       "      <td>0.651956</td>\n",
       "      <td>0.734472</td>\n",
       "      <td>0.705368</td>\n",
       "      <td>0.658401</td>\n",
       "    </tr>\n",
       "  </tbody>\n",
       "</table>\n",
       "</div>"
      ],
      "text/plain": [
       "            Age    Gender  Education     Usage   Fitness    Income     Miles\n",
       "TM195 -0.030858 -0.140848  -0.296591 -0.304312 -0.326090 -0.396744 -0.352915\n",
       "TM498  0.011347 -0.087489  -0.199761 -0.254198 -0.304015 -0.203871 -0.208650\n",
       "TM798  0.024017  0.267549   0.581002  0.651956  0.734472  0.705368  0.658401"
      ]
     },
     "execution_count": 106,
     "metadata": {},
     "output_type": "execute_result"
    }
   ],
   "source": [
    "df.corr()[['Age','Gender','Education','Usage','Fitness','Income','Miles']].iloc[[-3,-2,-1]]"
   ]
  },
  {
   "cell_type": "markdown",
   "metadata": {},
   "source": [
    "### Analysis: \n",
    "- General analysis: we can observe that age is not correlated with any of the products\n",
    "- Product TM195:\n",
    "    - Gender: we can observe than this product is negatively correlated with gender, which means that this product is more popular with Females.\n",
    "    - Education: This product is negatively correlated with higher education, which means this product is more popular with people with less education.\n",
    "    - Usage: this product is more popular with people having a smaller weekly usage.\n",
    "    - Fitness: This product is more popular with people who identified themselves as not fit.\n",
    "    - Income: This product is popular with low income.\n",
    "    - Miles: This product is popular with more casual users and beginners.\n",
    "\n",
    "- Product TM498:\n",
    "    - Gender: This product is not as correlated with gender as the two other products, although it has a negative correlations with males.\n",
    "    - Education: This product is negatively correlated with higher education, which means this product is more popular with people with less education, although the negative correlation is less than that of the first product.\n",
    "    - Usage: this product is more popular with people having a smaller weekly usage, although the negative correlation is less than that of the first product.\n",
    "    - Fitness: This product is more popular with people who identified themselves as not fit.\n",
    "    - Income: This product is popular with low income, although the negative correlation is less than that of the first product.\n",
    "    - Miles: This product is popular with more casual users and beginners, although the negative correlation is less than that of the first product.\n",
    "\n",
    "- Product TM798:\n",
    "    - Gender: we can observe than this product is positively correlated with gender, which means that this product is more popular with Males.\n",
    "    - Education: This product is positively correlated with higher education, which means this product is more popular with people with higher education.\n",
    "    - Usage: This product is highly positively correlated with Usage,this product is more popular with people having a higher weekly usage, so this product should be more popular with more involved clients.\n",
    "    - Fitness: This product is highly positively correlated with Fitness, This product is more popular with people who identified themselves as fit.\n",
    "    - Income: This product is highly positively correlated with high income.\n",
    "    - Miles: This product is popular with more advanced users."
   ]
  },
  {
   "cell_type": "markdown",
   "metadata": {},
   "source": []
  },
  {
   "cell_type": "markdown",
   "metadata": {},
   "source": [
    "### 2) Now, we are going to analyse each feature and describ what are the values that represent the \"best clients\" for each product"
   ]
  },
  {
   "cell_type": "markdown",
   "metadata": {},
   "source": [
    "#### For numerical variables, we are going first to plot and observe their distribution. observe the shape of the plot. and finally:\n",
    "- For continuous values(Age,Income):  we are going to plot the distribution and describ them as well as provide a range of mean + 2 standard deviation for income distribution, since in normal distribution 95% of the data is bewteen mean + or - 2 sd (https://www.labce.com/spg49741_acceptable_standard_deviation_sd.aspx)\n",
    "- For discret values(Usage,Fitness,Miles): provide the two highest mode values (mode is the value with the highest number of occurance)"
   ]
  },
  {
   "cell_type": "code",
   "execution_count": 22,
   "metadata": {},
   "outputs": [],
   "source": [
    "numTM195 = TM195[['Age','Education','Usage','Fitness','Income']]\n",
    "numTM498 = TM498[['Age','Education','Usage','Fitness','Income']]\n",
    "numTM798 = TM798[['Age','Education','Usage','Fitness','Income']]"
   ]
  },
  {
   "cell_type": "markdown",
   "metadata": {},
   "source": [
    "### plotting the distribution for each numerical variable:"
   ]
  },
  {
   "cell_type": "code",
   "execution_count": 92,
   "metadata": {},
   "outputs": [],
   "source": [
    "def plotdist (col):\n",
    "    print('Distribution and range for column :',col.name)\n",
    "    print(col.hist(bins=12, alpha=0.5))\n",
    "    plt.show()\n",
    "    print('range of mean +- 2 standard deviation: [',col.mean() - 2* col.std(),',',col.mean() + 2* col.std(),']');\n",
    "    print('Median ',col.name,': ',col.median());\n",
    "    print('Mean ',col.name,': ',col.mean());\n",
    "    print('__________________________________________________________________________')\n",
    "    print()"
   ]
  },
  {
   "cell_type": "markdown",
   "metadata": {},
   "source": [
    "### Product TM195:"
   ]
  },
  {
   "cell_type": "code",
   "execution_count": 132,
   "metadata": {},
   "outputs": [
    {
     "name": "stdout",
     "output_type": "stream",
     "text": [
      "Distribution and range for column : Age\n",
      "AxesSubplot(0.125,0.125;0.775x0.755)\n"
     ]
    },
    {
     "data": {
      "image/png": "[encoded data removed]",
      "text/plain": [
       "<Figure size 432x288 with 1 Axes>"
      ]
     },
     "metadata": {
      "needs_background": "light"
     },
     "output_type": "display_data"
    },
    {
     "name": "stdout",
     "output_type": "stream",
     "text": [
      "range of mean +- 2 standard deviation: [ 14.107096263062942 , 42.99290373693706 ]\n",
      "Median  Age :  26.0\n",
      "Mean  Age :  28.55\n",
      "__________________________________________________________________________\n",
      "\n",
      "Distribution and range for column : Income\n",
      "AxesSubplot(0.125,0.125;0.775x0.755)\n"
     ]
    },
    {
     "data": {
      "image/png": "[encoded data removed]",
      "text/plain": [
       "<Figure size 432x288 with 1 Axes>"
      ]
     },
     "metadata": {
      "needs_background": "light"
     },
     "output_type": "display_data"
    },
    {
     "name": "stdout",
     "output_type": "stream",
     "text": [
      "range of mean +- 2 standard deviation: [ 28266.45862068208 , 64569.59137931792 ]\n",
      "Median  Income :  46617.0\n",
      "Mean  Income :  46418.025\n",
      "__________________________________________________________________________\n",
      "\n",
      "Distribution and range for column : Miles\n",
      "AxesSubplot(0.125,0.125;0.775x0.755)\n"
     ]
    },
    {
     "data": {
      "image/png": "[encoded data removed]",
      "text/plain": [
       "<Figure size 432x288 with 1 Axes>"
      ]
     },
     "metadata": {
      "needs_background": "light"
     },
     "output_type": "display_data"
    },
    {
     "name": "stdout",
     "output_type": "stream",
     "text": [
      "range of mean +- 2 standard deviation: [ 25.03929601674924 , 140.53570398325076 ]\n",
      "Median  Miles :  85.0\n",
      "Mean  Miles :  82.7875\n",
      "__________________________________________________________________________\n",
      "\n"
     ]
    },
    {
     "data": {
      "text/plain": [
       "Age       None\n",
       "Income    None\n",
       "Miles     None\n",
       "dtype: object"
      ]
     },
     "execution_count": 132,
     "metadata": {},
     "output_type": "execute_result"
    }
   ],
   "source": [
    "TM195[['Age','Income','Miles']].apply(plotdist)"
   ]
  },
  {
   "cell_type": "markdown",
   "metadata": {},
   "source": [
    "#### Analysis: these distributions confirm the analysis made with the dataset correlations. the income distribution shows that this product is more popular with clients with smaller income\n",
    "\n",
    "#### the range of values, mean and median Income for this product is similar to the second product. but are significantly smaller than the last product"
   ]
  },
  {
   "cell_type": "markdown",
   "metadata": {},
   "source": [
    "### Product TM498:"
   ]
  },
  {
   "cell_type": "code",
   "execution_count": 133,
   "metadata": {},
   "outputs": [
    {
     "name": "stdout",
     "output_type": "stream",
     "text": [
      "Distribution and range for column : Age\n",
      "AxesSubplot(0.125,0.125;0.775x0.755)\n"
     ]
    },
    {
     "data": {
      "image/png": "[encoded data removed]",
      "text/plain": [
       "<Figure size 432x288 with 1 Axes>"
      ]
     },
     "metadata": {
      "needs_background": "light"
     },
     "output_type": "display_data"
    },
    {
     "name": "stdout",
     "output_type": "stream",
     "text": [
      "range of mean +- 2 standard deviation: [ 15.60950384163205 , 42.19049615836795 ]\n",
      "Median  Age :  26.0\n",
      "Mean  Age :  28.9\n",
      "__________________________________________________________________________\n",
      "\n",
      "Distribution and range for column : Income\n",
      "AxesSubplot(0.125,0.125;0.775x0.755)\n"
     ]
    },
    {
     "data": {
      "image/png": "[encoded data removed]",
      "text/plain": [
       "<Figure size 432x288 with 1 Axes>"
      ]
     },
     "metadata": {
      "needs_background": "light"
     },
     "output_type": "display_data"
    },
    {
     "name": "stdout",
     "output_type": "stream",
     "text": [
      "range of mean +- 2 standard deviation: [ 31665.671223372054 , 66281.62877662794 ]\n",
      "Median  Income :  49459.5\n",
      "Mean  Income :  48973.65\n",
      "__________________________________________________________________________\n",
      "\n",
      "Distribution and range for column : Miles\n",
      "AxesSubplot(0.125,0.125;0.775x0.755)\n"
     ]
    },
    {
     "data": {
      "image/png": "[encoded data removed]",
      "text/plain": [
       "<Figure size 432x288 with 1 Axes>"
      ]
     },
     "metadata": {
      "needs_background": "light"
     },
     "output_type": "display_data"
    },
    {
     "name": "stdout",
     "output_type": "stream",
     "text": [
      "range of mean +- 2 standard deviation: [ 21.40706308790051 , 154.45960357876618 ]\n",
      "Median  Miles :  85.0\n",
      "Mean  Miles :  87.93333333333334\n",
      "__________________________________________________________________________\n",
      "\n"
     ]
    },
    {
     "data": {
      "text/plain": [
       "Age       None\n",
       "Income    None\n",
       "Miles     None\n",
       "dtype: object"
      ]
     },
     "execution_count": 133,
     "metadata": {},
     "output_type": "execute_result"
    }
   ],
   "source": [
    "TM498[['Age','Income','Miles']].apply(plotdist)"
   ]
  },
  {
   "cell_type": "markdown",
   "metadata": {},
   "source": [
    "#### Analysis: Although we can observe that the income distribution is slightly weighted towards smaller income, we can observe that this product is actually popular with more average incomes than the first product\n",
    "#### the range of values, mean and median Income for this product is similar to the first product. but are significantly smaller than the last product"
   ]
  },
  {
   "cell_type": "markdown",
   "metadata": {},
   "source": [
    "### Product TM798:"
   ]
  },
  {
   "cell_type": "code",
   "execution_count": 134,
   "metadata": {},
   "outputs": [
    {
     "name": "stdout",
     "output_type": "stream",
     "text": [
      "Distribution and range for column : Age\n",
      "AxesSubplot(0.125,0.125;0.775x0.755)\n"
     ]
    },
    {
     "data": {
      "image/png": "[encoded data removed]",
      "text/plain": [
       "<Figure size 432x288 with 1 Axes>"
      ]
     },
     "metadata": {
      "needs_background": "light"
     },
     "output_type": "display_data"
    },
    {
     "name": "stdout",
     "output_type": "stream",
     "text": [
      "range of mean +- 2 standard deviation: [ 15.1565243636849 , 43.0434756363151 ]\n",
      "Median  Age :  27.0\n",
      "Mean  Age :  29.1\n",
      "__________________________________________________________________________\n",
      "\n",
      "Distribution and range for column : Income\n",
      "AxesSubplot(0.125,0.125;0.775x0.755)\n"
     ]
    },
    {
     "data": {
      "image/png": "[encoded data removed]",
      "text/plain": [
       "<Figure size 432x288 with 1 Axes>"
      ]
     },
     "metadata": {
      "needs_background": "light"
     },
     "output_type": "display_data"
    },
    {
     "name": "stdout",
     "output_type": "stream",
     "text": [
      "range of mean +- 2 standard deviation: [ 38429.90155973634 , 112453.24844026365 ]\n",
      "Median  Income :  76568.5\n",
      "Mean  Income :  75441.575\n",
      "__________________________________________________________________________\n",
      "\n",
      "Distribution and range for column : Miles\n",
      "AxesSubplot(0.125,0.125;0.775x0.755)\n"
     ]
    },
    {
     "data": {
      "image/png": "[encoded data removed]",
      "text/plain": [
       "<Figure size 432x288 with 1 Axes>"
      ]
     },
     "metadata": {
      "needs_background": "light"
     },
     "output_type": "display_data"
    },
    {
     "name": "stdout",
     "output_type": "stream",
     "text": [
      "range of mean +- 2 standard deviation: [ 46.76691140922513 , 287.03308859077487 ]\n",
      "Median  Miles :  160.0\n",
      "Mean  Miles :  166.9\n",
      "__________________________________________________________________________\n",
      "\n"
     ]
    },
    {
     "data": {
      "text/plain": [
       "Age       None\n",
       "Income    None\n",
       "Miles     None\n",
       "dtype: object"
      ]
     },
     "execution_count": 134,
     "metadata": {},
     "output_type": "execute_result"
    }
   ],
   "source": [
    "TM798[['Age','Income','Miles']].apply(plotdist)"
   ]
  },
  {
   "cell_type": "markdown",
   "metadata": {},
   "source": [
    "#### Analysis: Although we can observe that the income distribution is weighted towards very high income level and slightly less towards very small income, we can also observe that this product is highly popular with the younger population way more than the two other products\n",
    "#### Median and mean Income are also way higher than the other two products.\n",
    "\n",
    "#### the range of values for the income is significantly Higher than that of the two other products.\n",
    "\n",
    "#### As for the Miles variable, we can observe that clients who are more attracted to this product have a higher value than the two other products"
   ]
  },
  {
   "cell_type": "markdown",
   "metadata": {},
   "source": [
    "### 3) Compute mode value for the categorical features:"
   ]
  },
  {
   "cell_type": "code",
   "execution_count": 108,
   "metadata": {},
   "outputs": [
    {
     "data": {
      "text/html": [
       "<div>\n",
       "<style scoped>\n",
       "    .dataframe tbody tr th:only-of-type {\n",
       "        vertical-align: middle;\n",
       "    }\n",
       "\n",
       "    .dataframe tbody tr th {\n",
       "        vertical-align: top;\n",
       "    }\n",
       "\n",
       "    .dataframe thead th {\n",
       "        text-align: right;\n",
       "    }\n",
       "</style>\n",
       "<table border=\"1\" class=\"dataframe\">\n",
       "  <thead>\n",
       "    <tr style=\"text-align: right;\">\n",
       "      <th></th>\n",
       "      <th>Product</th>\n",
       "      <th>Age</th>\n",
       "      <th>Gender</th>\n",
       "      <th>Education</th>\n",
       "      <th>MaritalStatus</th>\n",
       "      <th>Usage</th>\n",
       "      <th>Fitness</th>\n",
       "      <th>Income</th>\n",
       "      <th>Miles</th>\n",
       "    </tr>\n",
       "  </thead>\n",
       "  <tbody>\n",
       "    <tr>\n",
       "      <th>0</th>\n",
       "      <td>TM195</td>\n",
       "      <td>18</td>\n",
       "      <td>1</td>\n",
       "      <td>14</td>\n",
       "      <td>Single</td>\n",
       "      <td>3</td>\n",
       "      <td>4</td>\n",
       "      <td>29562</td>\n",
       "      <td>112</td>\n",
       "    </tr>\n",
       "    <tr>\n",
       "      <th>1</th>\n",
       "      <td>TM195</td>\n",
       "      <td>19</td>\n",
       "      <td>1</td>\n",
       "      <td>15</td>\n",
       "      <td>Single</td>\n",
       "      <td>2</td>\n",
       "      <td>3</td>\n",
       "      <td>31836</td>\n",
       "      <td>75</td>\n",
       "    </tr>\n",
       "    <tr>\n",
       "      <th>2</th>\n",
       "      <td>TM195</td>\n",
       "      <td>19</td>\n",
       "      <td>0</td>\n",
       "      <td>14</td>\n",
       "      <td>Partnered</td>\n",
       "      <td>4</td>\n",
       "      <td>3</td>\n",
       "      <td>30699</td>\n",
       "      <td>66</td>\n",
       "    </tr>\n",
       "    <tr>\n",
       "      <th>3</th>\n",
       "      <td>TM195</td>\n",
       "      <td>19</td>\n",
       "      <td>1</td>\n",
       "      <td>12</td>\n",
       "      <td>Single</td>\n",
       "      <td>3</td>\n",
       "      <td>3</td>\n",
       "      <td>32973</td>\n",
       "      <td>85</td>\n",
       "    </tr>\n",
       "    <tr>\n",
       "      <th>4</th>\n",
       "      <td>TM195</td>\n",
       "      <td>20</td>\n",
       "      <td>1</td>\n",
       "      <td>13</td>\n",
       "      <td>Partnered</td>\n",
       "      <td>4</td>\n",
       "      <td>2</td>\n",
       "      <td>35247</td>\n",
       "      <td>47</td>\n",
       "    </tr>\n",
       "  </tbody>\n",
       "</table>\n",
       "</div>"
      ],
      "text/plain": [
       "  Product  Age  Gender  Education MaritalStatus  Usage  Fitness  Income  Miles\n",
       "0   TM195   18       1         14        Single      3        4   29562    112\n",
       "1   TM195   19       1         15        Single      2        3   31836     75\n",
       "2   TM195   19       0         14     Partnered      4        3   30699     66\n",
       "3   TM195   19       1         12        Single      3        3   32973     85\n",
       "4   TM195   20       1         13     Partnered      4        2   35247     47"
      ]
     },
     "execution_count": 108,
     "metadata": {},
     "output_type": "execute_result"
    }
   ],
   "source": [
    "TM195.head()"
   ]
  },
  {
   "cell_type": "code",
   "execution_count": 114,
   "metadata": {},
   "outputs": [
    {
     "data": {
      "text/html": [
       "<div>\n",
       "<style scoped>\n",
       "    .dataframe tbody tr th:only-of-type {\n",
       "        vertical-align: middle;\n",
       "    }\n",
       "\n",
       "    .dataframe tbody tr th {\n",
       "        vertical-align: top;\n",
       "    }\n",
       "\n",
       "    .dataframe thead th {\n",
       "        text-align: right;\n",
       "    }\n",
       "</style>\n",
       "<table border=\"1\" class=\"dataframe\">\n",
       "  <thead>\n",
       "    <tr style=\"text-align: right;\">\n",
       "      <th></th>\n",
       "      <th>MaritalStatus</th>\n",
       "    </tr>\n",
       "  </thead>\n",
       "  <tbody>\n",
       "    <tr>\n",
       "      <th>0</th>\n",
       "      <td>Partnered</td>\n",
       "    </tr>\n",
       "  </tbody>\n",
       "</table>\n",
       "</div>"
      ],
      "text/plain": [
       "  MaritalStatus\n",
       "0     Partnered"
      ]
     },
     "execution_count": 114,
     "metadata": {},
     "output_type": "execute_result"
    }
   ],
   "source": [
    "TM195[['MaritalStatus']].mode()"
   ]
  },
  {
   "cell_type": "code",
   "execution_count": 153,
   "metadata": {},
   "outputs": [],
   "source": [
    "def modvalue(col):\n",
    "    print('Mode value for column :',col.name);\n",
    "    print('--------------------------------')\n",
    "    print('First Mode value/ Most occurring value :',col.mode());\n",
    "    print('__________________________________________________________________________')\n",
    "    print()"
   ]
  },
  {
   "cell_type": "markdown",
   "metadata": {},
   "source": [
    "#### A) product TM195"
   ]
  },
  {
   "cell_type": "code",
   "execution_count": 154,
   "metadata": {},
   "outputs": [
    {
     "name": "stdout",
     "output_type": "stream",
     "text": [
      "Mode value for column : Gender\n",
      "--------------------------------\n",
      "First Mode value/ Most occurring value : 0    0\n",
      "1    1\n",
      "dtype: object\n",
      "__________________________________________________________________________\n",
      "\n",
      "Mode value for column : Education\n",
      "--------------------------------\n",
      "First Mode value/ Most occurring value : 0    16\n",
      "dtype: object\n",
      "__________________________________________________________________________\n",
      "\n",
      "Mode value for column : MaritalStatus\n",
      "--------------------------------\n",
      "First Mode value/ Most occurring value : 0    Partnered\n",
      "dtype: object\n",
      "__________________________________________________________________________\n",
      "\n",
      "Mode value for column : Usage\n",
      "--------------------------------\n",
      "First Mode value/ Most occurring value : 0    3\n",
      "dtype: object\n",
      "__________________________________________________________________________\n",
      "\n",
      "Mode value for column : Fitness\n",
      "--------------------------------\n",
      "First Mode value/ Most occurring value : 0    3\n",
      "dtype: object\n",
      "__________________________________________________________________________\n",
      "\n"
     ]
    },
    {
     "data": {
      "text/plain": [
       "Gender           None\n",
       "Education        None\n",
       "MaritalStatus    None\n",
       "Usage            None\n",
       "Fitness          None\n",
       "dtype: object"
      ]
     },
     "execution_count": 154,
     "metadata": {},
     "output_type": "execute_result"
    }
   ],
   "source": [
    "TM195[['Gender','Education','MaritalStatus','Usage','Fitness']].apply(modvalue)"
   ]
  },
  {
   "cell_type": "markdown",
   "metadata": {},
   "source": [
    "#### B)Product TM498:"
   ]
  },
  {
   "cell_type": "code",
   "execution_count": 155,
   "metadata": {},
   "outputs": [
    {
     "name": "stdout",
     "output_type": "stream",
     "text": [
      "Mode value for column : Gender\n",
      "--------------------------------\n",
      "First Mode value/ Most occurring value : 0    1\n",
      "dtype: object\n",
      "__________________________________________________________________________\n",
      "\n",
      "Mode value for column : Education\n",
      "--------------------------------\n",
      "First Mode value/ Most occurring value : 0    16\n",
      "dtype: object\n",
      "__________________________________________________________________________\n",
      "\n",
      "Mode value for column : MaritalStatus\n",
      "--------------------------------\n",
      "First Mode value/ Most occurring value : 0    Partnered\n",
      "dtype: object\n",
      "__________________________________________________________________________\n",
      "\n",
      "Mode value for column : Usage\n",
      "--------------------------------\n",
      "First Mode value/ Most occurring value : 0    3\n",
      "dtype: object\n",
      "__________________________________________________________________________\n",
      "\n",
      "Mode value for column : Fitness\n",
      "--------------------------------\n",
      "First Mode value/ Most occurring value : 0    3\n",
      "dtype: object\n",
      "__________________________________________________________________________\n",
      "\n"
     ]
    },
    {
     "data": {
      "text/plain": [
       "Gender           None\n",
       "Education        None\n",
       "MaritalStatus    None\n",
       "Usage            None\n",
       "Fitness          None\n",
       "dtype: object"
      ]
     },
     "execution_count": 155,
     "metadata": {},
     "output_type": "execute_result"
    }
   ],
   "source": [
    "TM498[['Gender','Education','MaritalStatus','Usage','Fitness']].apply(modvalue)"
   ]
  },
  {
   "cell_type": "markdown",
   "metadata": {},
   "source": [
    "#### C) product TM798"
   ]
  },
  {
   "cell_type": "code",
   "execution_count": 156,
   "metadata": {},
   "outputs": [
    {
     "name": "stdout",
     "output_type": "stream",
     "text": [
      "Mode value for column : Gender\n",
      "--------------------------------\n",
      "First Mode value/ Most occurring value : 0    1\n",
      "dtype: object\n",
      "__________________________________________________________________________\n",
      "\n",
      "Mode value for column : Education\n",
      "--------------------------------\n",
      "First Mode value/ Most occurring value : 0    18\n",
      "dtype: object\n",
      "__________________________________________________________________________\n",
      "\n",
      "Mode value for column : MaritalStatus\n",
      "--------------------------------\n",
      "First Mode value/ Most occurring value : 0    Partnered\n",
      "dtype: object\n",
      "__________________________________________________________________________\n",
      "\n",
      "Mode value for column : Usage\n",
      "--------------------------------\n",
      "First Mode value/ Most occurring value : 0    4\n",
      "dtype: object\n",
      "__________________________________________________________________________\n",
      "\n",
      "Mode value for column : Fitness\n",
      "--------------------------------\n",
      "First Mode value/ Most occurring value : 0    5\n",
      "dtype: object\n",
      "__________________________________________________________________________\n",
      "\n"
     ]
    },
    {
     "data": {
      "text/plain": [
       "Gender           None\n",
       "Education        None\n",
       "MaritalStatus    None\n",
       "Usage            None\n",
       "Fitness          None\n",
       "dtype: object"
      ]
     },
     "execution_count": 156,
     "metadata": {},
     "output_type": "execute_result"
    }
   ],
   "source": [
    "TM798[['Gender','Education','MaritalStatus','Usage','Fitness']].apply(modvalue)"
   ]
  },
  {
   "cell_type": "code",
   "execution_count": null,
   "metadata": {},
   "outputs": [],
   "source": []
  }
 ],
 "metadata": {
  "kernelspec": {
   "display_name": "Python 3",
   "language": "python",
   "name": "python3"
  },
  "language_info": {
   "codemirror_mode": {
    "name": "ipython",
    "version": 3
   },
   "file_extension": ".py",
   "mimetype": "text/x-python",
   "name": "python",
   "nbconvert_exporter": "python",
   "pygments_lexer": "ipython3",
   "version": "3.7.3"
  }
 },
 "nbformat": 4,
 "nbformat_minor": 2
}
